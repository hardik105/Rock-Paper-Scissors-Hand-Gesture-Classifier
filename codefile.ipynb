{
 "cells": [
  {
   "cell_type": "code",
   "execution_count": 31,
   "metadata": {},
   "outputs": [],
   "source": [
    "import tensorflow as tf\n",
    "from tensorflow.keras import layers, models\n",
    "import matplotlib.pyplot as plt\n",
    "\n"
   ]
  },
  {
   "cell_type": "code",
   "execution_count": 32,
   "metadata": {},
   "outputs": [],
   "source": [
    "# Load dataset\n",
    "dataset_path = \"/Users/hardikagrawal/Documents/STUDY MATERIAL/Machine Learning/Projects/Rock:Paper:Scissors hand gestures detector/Training Data\"  # Update with your dataset path\n",
    "batch_size = 32\n",
    "img_size = (200, 300)\n",
    "\n"
   ]
  },
  {
   "cell_type": "code",
   "execution_count": 33,
   "metadata": {},
   "outputs": [
    {
     "name": "stdout",
     "output_type": "stream",
     "text": [
      "Found 2188 files belonging to 3 classes.\n",
      "Using 1751 files for training.\n",
      "Found 2188 files belonging to 3 classes.\n",
      "Using 437 files for validation.\n"
     ]
    }
   ],
   "source": [
    "train_data = tf.keras.preprocessing.image_dataset_from_directory(\n",
    "    dataset_path, validation_split=0.2, subset=\"training\", seed=42,\n",
    "    image_size=img_size, batch_size=batch_size\n",
    ")\n",
    "val_data = tf.keras.preprocessing.image_dataset_from_directory(\n",
    "    dataset_path, validation_split=0.2, subset=\"validation\", seed=42,\n",
    "    image_size=img_size, batch_size=batch_size\n",
    ")\n",
    "\n"
   ]
  },
  {
   "cell_type": "code",
   "execution_count": 34,
   "metadata": {},
   "outputs": [],
   "source": [
    "normalization_layer = layers.Rescaling(1./255)\n",
    "train_data = train_data.map(lambda x, y: (normalization_layer(x), y))\n",
    "val_data = val_data.map(lambda x, y: (normalization_layer(x), y))\n"
   ]
  },
  {
   "cell_type": "code",
   "execution_count": 35,
   "metadata": {},
   "outputs": [],
   "source": [
    "# def adjust_labels(image, label):\n",
    "#     label = label -1  # Shift the labels to 0, 1, 2 instead of 1, 2, 3\n",
    "#     return image, label\n",
    "\n",
    "# # Apply label adjustment to the datasets\n",
    "# train_data = train_data.map(adjust_labels)\n",
    "# val_data = val_data.map(adjust_labels)\n"
   ]
  },
  {
   "cell_type": "code",
   "execution_count": 36,
   "metadata": {},
   "outputs": [],
   "source": [
    "model = models.Sequential([\n",
    "    layers.Conv2D(32, (3,3), activation='relu', input_shape=(200, 300, 3)),\n",
    "    layers.MaxPooling2D(2,2),\n",
    "    layers.Conv2D(64, (3,3), activation='relu'),\n",
    "    layers.MaxPooling2D(2,2),\n",
    "    layers.Conv2D(128, (3,3), activation='relu'),\n",
    "    layers.MaxPooling2D(2,2),\n",
    "    layers.Flatten(),\n",
    "    layers.Dense(128, activation='relu'),\n",
    "    layers.Dense(3, activation='softmax')  # 3 classes: rock, paper, scissors\n",
    "])\n"
   ]
  },
  {
   "cell_type": "code",
   "execution_count": 37,
   "metadata": {},
   "outputs": [],
   "source": [
    "model.compile(optimizer=tf.keras.optimizers.Adam(learning_rate=0.0001),\n",
    "              loss=\"sparse_categorical_crossentropy\", metrics=[\"accuracy\"])\n"
   ]
  },
  {
   "cell_type": "code",
   "execution_count": 38,
   "metadata": {},
   "outputs": [
    {
     "name": "stdout",
     "output_type": "stream",
     "text": [
      "Epoch 1/10\n",
      "\u001b[1m55/55\u001b[0m \u001b[32m━━━━━━━━━━━━━━━━━━━━\u001b[0m\u001b[37m\u001b[0m \u001b[1m43s\u001b[0m 777ms/step - accuracy: 0.5203 - loss: 1.0042 - val_accuracy: 0.8375 - val_loss: 0.4818\n",
      "Epoch 2/10\n",
      "\u001b[1m55/55\u001b[0m \u001b[32m━━━━━━━━━━━━━━━━━━━━\u001b[0m\u001b[37m\u001b[0m \u001b[1m34s\u001b[0m 617ms/step - accuracy: 0.8375 - loss: 0.4741 - val_accuracy: 0.8352 - val_loss: 0.4594\n",
      "Epoch 3/10\n",
      "\u001b[1m55/55\u001b[0m \u001b[32m━━━━━━━━━━━━━━━━━━━━\u001b[0m\u001b[37m\u001b[0m \u001b[1m34s\u001b[0m 615ms/step - accuracy: 0.8950 - loss: 0.3598 - val_accuracy: 0.9176 - val_loss: 0.2492\n",
      "Epoch 4/10\n",
      "\u001b[1m55/55\u001b[0m \u001b[32m━━━━━━━━━━━━━━━━━━━━\u001b[0m\u001b[37m\u001b[0m \u001b[1m43s\u001b[0m 781ms/step - accuracy: 0.9193 - loss: 0.2621 - val_accuracy: 0.9314 - val_loss: 0.1984\n",
      "Epoch 5/10\n",
      "\u001b[1m55/55\u001b[0m \u001b[32m━━━━━━━━━━━━━━━━━━━━\u001b[0m\u001b[37m\u001b[0m \u001b[1m39s\u001b[0m 704ms/step - accuracy: 0.9513 - loss: 0.1702 - val_accuracy: 0.9451 - val_loss: 0.1650\n",
      "Epoch 6/10\n",
      "\u001b[1m55/55\u001b[0m \u001b[32m━━━━━━━━━━━━━━━━━━━━\u001b[0m\u001b[37m\u001b[0m \u001b[1m38s\u001b[0m 684ms/step - accuracy: 0.9569 - loss: 0.1298 - val_accuracy: 0.9565 - val_loss: 0.1291\n",
      "Epoch 7/10\n",
      "\u001b[1m55/55\u001b[0m \u001b[32m━━━━━━━━━━━━━━━━━━━━\u001b[0m\u001b[37m\u001b[0m \u001b[1m37s\u001b[0m 666ms/step - accuracy: 0.9676 - loss: 0.1096 - val_accuracy: 0.9634 - val_loss: 0.1149\n",
      "Epoch 8/10\n",
      "\u001b[1m55/55\u001b[0m \u001b[32m━━━━━━━━━━━━━━━━━━━━\u001b[0m\u001b[37m\u001b[0m \u001b[1m41s\u001b[0m 748ms/step - accuracy: 0.9741 - loss: 0.0804 - val_accuracy: 0.9680 - val_loss: 0.0871\n",
      "Epoch 9/10\n",
      "\u001b[1m55/55\u001b[0m \u001b[32m━━━━━━━━━━━━━━━━━━━━\u001b[0m\u001b[37m\u001b[0m \u001b[1m44s\u001b[0m 802ms/step - accuracy: 0.9851 - loss: 0.0499 - val_accuracy: 0.9680 - val_loss: 0.0916\n",
      "Epoch 10/10\n",
      "\u001b[1m55/55\u001b[0m \u001b[32m━━━━━━━━━━━━━━━━━━━━\u001b[0m\u001b[37m\u001b[0m \u001b[1m44s\u001b[0m 793ms/step - accuracy: 0.9851 - loss: 0.0459 - val_accuracy: 0.9680 - val_loss: 0.0906\n"
     ]
    }
   ],
   "source": [
    "history = model.fit(train_data, validation_data=val_data, epochs=10)\n"
   ]
  },
  {
   "cell_type": "code",
   "execution_count": 39,
   "metadata": {},
   "outputs": [
    {
     "name": "stdout",
     "output_type": "stream",
     "text": [
      "\u001b[1m14/14\u001b[0m \u001b[32m━━━━━━━━━━━━━━━━━━━━\u001b[0m\u001b[37m\u001b[0m \u001b[1m2s\u001b[0m 146ms/step - accuracy: 0.9762 - loss: 0.0601\n",
      "Validation Accuracy: 0.97\n"
     ]
    }
   ],
   "source": [
    "loss, acc = model.evaluate(val_data)\n",
    "print(f\"Validation Accuracy: {acc:.2f}\")"
   ]
  },
  {
   "cell_type": "code",
   "execution_count": 40,
   "metadata": {},
   "outputs": [
    {
     "data": {
      "image/png": "[encoded data removed]",
      "text/plain": [
       "<Figure size 640x480 with 1 Axes>"
      ]
     },
     "metadata": {},
     "output_type": "display_data"
    },
    {
     "data": {
      "text/plain": [
       "(<matplotlib.legend.Legend at 0x3139c5370>, None)"
      ]
     },
     "execution_count": 40,
     "metadata": {},
     "output_type": "execute_result"
    }
   ],
   "source": [
    "plt.plot(history.history['accuracy'], label='Train Accuracy')\n",
    "plt.plot(history.history['val_accuracy'], label='Val Accuracy')\n",
    "plt.legend(), plt.show()"
   ]
  },
  {
   "cell_type": "code",
   "execution_count": 42,
   "metadata": {},
   "outputs": [
    {
     "name": "stderr",
     "output_type": "stream",
     "text": [
      "WARNING:absl:You are saving your model as an HDF5 file via `model.save()` or `keras.saving.save_model(model)`. This file format is considered legacy. We recommend using instead the native Keras format, e.g. `model.save('my_model.keras')` or `keras.saving.save_model(model, 'my_model.keras')`. \n"
     ]
    },
    {
     "name": "stderr",
     "output_type": "stream",
     "text": [
      "2025-02-18 22:17:58.588870: W tensorflow/core/framework/op_kernel.cc:1841] OP_REQUIRES failed at whole_file_read_ops.cc:116 : NOT_FOUND: /Users/hardikagrawal/Documents/STUDY MATERIAL/Machine Learning/Projects/Rock:Paper:Scissors hand gestures detector/paper/41HC0VBlHSRhi0AG.png; No such file or directory\n",
      "2025-02-18 22:17:58.589083: W tensorflow/core/framework/op_kernel.cc:1841] OP_REQUIRES failed at whole_file_read_ops.cc:116 : NOT_FOUND: /Users/hardikagrawal/Documents/STUDY MATERIAL/Machine Learning/Projects/Rock:Paper:Scissors hand gestures detector/paper/ywXiLajxMzhy7BST.png; No such file or directory\n",
      "2025-02-18 22:17:58.589104: W tensorflow/core/framework/op_kernel.cc:1841] OP_REQUIRES failed at whole_file_read_ops.cc:116 : NOT_FOUND: /Users/hardikagrawal/Documents/STUDY MATERIAL/Machine Learning/Projects/Rock:Paper:Scissors hand gestures detector/paper/9yGlnLxGtzq1gJti.png; No such file or directory\n",
      "2025-02-18 22:17:58.589116: W tensorflow/core/framework/op_kernel.cc:1841] OP_REQUIRES failed at whole_file_read_ops.cc:116 : NOT_FOUND: /Users/hardikagrawal/Documents/STUDY MATERIAL/Machine Learning/Projects/Rock:Paper:Scissors hand gestures detector/rock/dLrum1jVnQix8sV5.png; No such file or directory\n",
      "2025-02-18 22:17:58.589132: W tensorflow/core/framework/op_kernel.cc:1841] OP_REQUIRES failed at whole_file_read_ops.cc:116 : NOT_FOUND: /Users/hardikagrawal/Documents/STUDY MATERIAL/Machine Learning/Projects/Rock:Paper:Scissors hand gestures detector/scissors/Xghl7QyFQxkC7zNQ.png; No such file or directory\n",
      "2025-02-18 22:17:58.589143: W tensorflow/core/framework/op_kernel.cc:1841] OP_REQUIRES failed at whole_file_read_ops.cc:116 : NOT_FOUND: /Users/hardikagrawal/Documents/STUDY MATERIAL/Machine Learning/Projects/Rock:Paper:Scissors hand gestures detector/scissors/ztTeXxuMaartlKMy.png; No such file or directory\n",
      "2025-02-18 22:17:58.589152: W tensorflow/core/framework/op_kernel.cc:1841] OP_REQUIRES failed at whole_file_read_ops.cc:116 : NOT_FOUND: /Users/hardikagrawal/Documents/STUDY MATERIAL/Machine Learning/Projects/Rock:Paper:Scissors hand gestures detector/scissors/dkrdiLQ61q78gidZ.png; No such file or directory\n",
      "2025-02-18 22:17:58.590689: W tensorflow/core/framework/op_kernel.cc:1841] OP_REQUIRES failed at whole_file_read_ops.cc:116 : NOT_FOUND: /Users/hardikagrawal/Documents/STUDY MATERIAL/Machine Learning/Projects/Rock:Paper:Scissors hand gestures detector/rock/vL6UMd1OOIGuEdFu.png; No such file or directory\n",
      "2025-02-19 02:09:39.398553: W tensorflow/core/framework/op_kernel.cc:1841] OP_REQUIRES failed at whole_file_read_ops.cc:116 : NOT_FOUND: /Users/hardikagrawal/Documents/STUDY MATERIAL/Machine Learning/Projects/Rock:Paper:Scissors hand gestures detector/paper/UGHu0zv6pWOmgBWn.png; No such file or directory\n",
      "2025-02-19 02:09:39.398758: W tensorflow/core/framework/op_kernel.cc:1841] OP_REQUIRES failed at whole_file_read_ops.cc:116 : NOT_FOUND: /Users/hardikagrawal/Documents/STUDY MATERIAL/Machine Learning/Projects/Rock:Paper:Scissors hand gestures detector/scissors/gzAhbz3S2W0VukHE.png; No such file or directory\n",
      "2025-02-19 02:09:39.399607: W tensorflow/core/framework/op_kernel.cc:1841] OP_REQUIRES failed at whole_file_read_ops.cc:116 : NOT_FOUND: /Users/hardikagrawal/Documents/STUDY MATERIAL/Machine Learning/Projects/Rock:Paper:Scissors hand gestures detector/rock/ZljuXHZdMhwFPe6H.png; No such file or directory\n",
      "2025-02-19 02:09:39.399623: W tensorflow/core/framework/op_kernel.cc:1841] OP_REQUIRES failed at whole_file_read_ops.cc:116 : NOT_FOUND: /Users/hardikagrawal/Documents/STUDY MATERIAL/Machine Learning/Projects/Rock:Paper:Scissors hand gestures detector/paper/Z5ioSnqxnoCUixRW.png; No such file or directory\n",
      "2025-02-19 02:09:39.399637: W tensorflow/core/framework/op_kernel.cc:1841] OP_REQUIRES failed at whole_file_read_ops.cc:116 : NOT_FOUND: /Users/hardikagrawal/Documents/STUDY MATERIAL/Machine Learning/Projects/Rock:Paper:Scissors hand gestures detector/rock/BvjXvNTvapIFq4bK.png; No such file or directory\n",
      "2025-02-19 02:09:39.399679: W tensorflow/core/framework/op_kernel.cc:1841] OP_REQUIRES failed at whole_file_read_ops.cc:116 : NOT_FOUND: /Users/hardikagrawal/Documents/STUDY MATERIAL/Machine Learning/Projects/Rock:Paper:Scissors hand gestures detector/rock/IY007WkIgMgYMJRj.png; No such file or directory\n",
      "2025-02-19 02:09:39.399686: W tensorflow/core/framework/op_kernel.cc:1841] OP_REQUIRES failed at whole_file_read_ops.cc:116 : NOT_FOUND: /Users/hardikagrawal/Documents/STUDY MATERIAL/Machine Learning/Projects/Rock:Paper:Scissors hand gestures detector/scissors/N40rvDyvPIoApxTW.png; No such file or directory\n",
      "2025-02-19 02:09:39.400156: W tensorflow/core/framework/op_kernel.cc:1841] OP_REQUIRES failed at whole_file_read_ops.cc:116 : NOT_FOUND: /Users/hardikagrawal/Documents/STUDY MATERIAL/Machine Learning/Projects/Rock:Paper:Scissors hand gestures detector/scissors/FayATL4XRpv7AB0y.png; No such file or directory\n",
      "2025-02-19 11:29:59.829977: W tensorflow/core/framework/op_kernel.cc:1841] OP_REQUIRES failed at whole_file_read_ops.cc:116 : NOT_FOUND: /Users/hardikagrawal/Documents/STUDY MATERIAL/Machine Learning/Projects/Rock:Paper:Scissors hand gestures detector/scissors/CemUmBPmUpNgXfMC.png; No such file or directory\n",
      "2025-02-19 11:29:59.830267: W tensorflow/core/framework/op_kernel.cc:1841] OP_REQUIRES failed at whole_file_read_ops.cc:116 : NOT_FOUND: /Users/hardikagrawal/Documents/STUDY MATERIAL/Machine Learning/Projects/Rock:Paper:Scissors hand gestures detector/paper/yaRRMcZS7JJ3xLK1.png; No such file or directory\n",
      "2025-02-19 11:29:59.830324: W tensorflow/core/framework/op_kernel.cc:1841] OP_REQUIRES failed at whole_file_read_ops.cc:116 : NOT_FOUND: /Users/hardikagrawal/Documents/STUDY MATERIAL/Machine Learning/Projects/Rock:Paper:Scissors hand gestures detector/rock/DHqDt7x3dw4jZmp9.png; No such file or directory\n",
      "2025-02-19 11:29:59.830339: W tensorflow/core/framework/op_kernel.cc:1841] OP_REQUIRES failed at whole_file_read_ops.cc:116 : NOT_FOUND: /Users/hardikagrawal/Documents/STUDY MATERIAL/Machine Learning/Projects/Rock:Paper:Scissors hand gestures detector/rock/N235Vnlue0M9SwaK.png; No such file or directory\n",
      "2025-02-19 11:29:59.830547: W tensorflow/core/framework/op_kernel.cc:1841] OP_REQUIRES failed at whole_file_read_ops.cc:116 : NOT_FOUND: /Users/hardikagrawal/Documents/STUDY MATERIAL/Machine Learning/Projects/Rock:Paper:Scissors hand gestures detector/rock/N5RzLbTF6dlVDkbx.png; No such file or directory\n",
      "2025-02-19 11:29:59.831101: W tensorflow/core/framework/op_kernel.cc:1841] OP_REQUIRES failed at whole_file_read_ops.cc:116 : NOT_FOUND: /Users/hardikagrawal/Documents/STUDY MATERIAL/Machine Learning/Projects/Rock:Paper:Scissors hand gestures detector/paper/ac0j8jCfz8hwpY0o.png; No such file or directory\n",
      "2025-02-19 11:29:59.831143: W tensorflow/core/framework/op_kernel.cc:1841] OP_REQUIRES failed at whole_file_read_ops.cc:116 : NOT_FOUND: /Users/hardikagrawal/Documents/STUDY MATERIAL/Machine Learning/Projects/Rock:Paper:Scissors hand gestures detector/scissors/IOa7xROJIqP2jRQE.png; No such file or directory\n",
      "2025-02-19 11:29:59.831875: W tensorflow/core/framework/op_kernel.cc:1841] OP_REQUIRES failed at whole_file_read_ops.cc:116 : NOT_FOUND: /Users/hardikagrawal/Documents/STUDY MATERIAL/Machine Learning/Projects/Rock:Paper:Scissors hand gestures detector/paper/Vly5xEFupx36kCcd.png; No such file or directory\n"
     ]
    }
   ],
   "source": [
    "model.save(\"rps_classifier2.h5\")\n"
   ]
  },
  {
   "cell_type": "code",
   "execution_count": null,
   "metadata": {},
   "outputs": [],
   "source": []
  }
 ],
 "metadata": {
  "kernelspec": {
   "display_name": "Python 3",
   "language": "python",
   "name": "python3"
  },
  "language_info": {
   "codemirror_mode": {
    "name": "ipython",
    "version": 3
   },
   "file_extension": ".py",
   "mimetype": "text/x-python",
   "name": "python",
   "nbconvert_exporter": "python",
   "pygments_lexer": "ipython3",
   "version": "3.12.5"
  }
 },
 "nbformat": 4,
 "nbformat_minor": 2
}
